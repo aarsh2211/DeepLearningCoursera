{
  "nbformat": 4,
  "nbformat_minor": 0,
  "metadata": {
    "colab": {
      "name": "SIGNS.ipynb",
      "version": "0.3.2",
      "provenance": [],
      "collapsed_sections": []
    },
    "kernelspec": {
      "name": "python3",
      "display_name": "Python 3"
    }
  },
  "cells": [
    {
      "cell_type": "code",
      "metadata": {
        "id": "O9m5qdM5Ktu6",
        "colab_type": "code",
        "outputId": "fde739d9-c7bf-46c4-cdb5-903acb2313f0",
        "colab": {
          "resources": {
            "http://localhost:8080/nbextensions/google.colab/files.js": {
              "data": "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",
              "ok": true,
              "headers": [
                [
                  "content-type",
                  "application/javascript"
                ]
              ],
              "status": 200,
              "status_text": ""
            }
          },
          "base_uri": "https://localhost:8080/",
          "height": 74
        }
      },
      "source": [
        "from google.colab import files\n",
        "uploaded = files.upload()"
      ],
      "execution_count": 1,
      "outputs": [
        {
          "output_type": "display_data",
          "data": {
            "text/html": [
              "\n",
              "     <input type=\"file\" id=\"files-c3164a1f-8572-4491-b04b-75ca32c1636b\" name=\"files[]\" multiple disabled />\n",
              "     <output id=\"result-c3164a1f-8572-4491-b04b-75ca32c1636b\">\n",
              "      Upload widget is only available when the cell has been executed in the\n",
              "      current browser session. Please rerun this cell to enable.\n",
              "      </output>\n",
              "      <script src=\"/nbextensions/google.colab/files.js\"></script> "
            ],
            "text/plain": [
              "<IPython.core.display.HTML object>"
            ]
          },
          "metadata": {
            "tags": []
          }
        },
        {
          "output_type": "stream",
          "text": [
            "Saving train_signs.h5 to train_signs.h5\n"
          ],
          "name": "stdout"
        }
      ]
    },
    {
      "cell_type": "code",
      "metadata": {
        "id": "F0iGRg70KuVX",
        "colab_type": "code",
        "colab": {}
      },
      "source": [
        "import math\n",
        "import numpy as np\n",
        "import h5py\n",
        "import matplotlib.pyplot as plt\n",
        "import scipy\n",
        "from PIL import Image\n",
        "from scipy import ndimage\n",
        "import tensorflow as tf\n",
        "from tensorflow.python.framework import ops\n"
      ],
      "execution_count": 0,
      "outputs": []
    },
    {
      "cell_type": "code",
      "metadata": {
        "id": "nznFwhGEL5f3",
        "colab_type": "code",
        "colab": {}
      },
      "source": [
        "dataset = h5py.File(\"train_signs.h5\", 'r+')"
      ],
      "execution_count": 0,
      "outputs": []
    },
    {
      "cell_type": "code",
      "metadata": {
        "id": "H9i89SBKMFs9",
        "colab_type": "code",
        "outputId": "73dc9ad0-d567-4773-97c6-eaf5f0588313",
        "colab": {
          "base_uri": "https://localhost:8080/",
          "height": 33
        }
      },
      "source": [
        "print(dataset)"
      ],
      "execution_count": 4,
      "outputs": [
        {
          "output_type": "stream",
          "text": [
            "<HDF5 file \"train_signs.h5\" (mode r+)>\n"
          ],
          "name": "stdout"
        }
      ]
    },
    {
      "cell_type": "code",
      "metadata": {
        "id": "bg894Fb0MINz",
        "colab_type": "code",
        "outputId": "7007554c-552e-43df-a30b-88fb52ce3c0a",
        "colab": {
          "base_uri": "https://localhost:8080/",
          "height": 33
        }
      },
      "source": [
        "list(dataset.keys())"
      ],
      "execution_count": 5,
      "outputs": [
        {
          "output_type": "execute_result",
          "data": {
            "text/plain": [
              "['list_classes', 'train_set_x', 'train_set_y']"
            ]
          },
          "metadata": {
            "tags": []
          },
          "execution_count": 5
        }
      ]
    },
    {
      "cell_type": "code",
      "metadata": {
        "id": "zlyKMj7hMVCS",
        "colab_type": "code",
        "colab": {}
      },
      "source": [
        "train_data_x = dataset['train_set_x']\n",
        "train_data_y = dataset['train_set_y']\n",
        "train_data_classes = dataset['list_classes']"
      ],
      "execution_count": 0,
      "outputs": []
    },
    {
      "cell_type": "code",
      "metadata": {
        "id": "XUH-MUdoMrt9",
        "colab_type": "code",
        "outputId": "a2a07bd5-3022-4c0d-9aae-0b3710901c3c",
        "colab": {
          "base_uri": "https://localhost:8080/",
          "height": 33
        }
      },
      "source": [
        "\n",
        "print(train_data_y[0])"
      ],
      "execution_count": 7,
      "outputs": [
        {
          "output_type": "stream",
          "text": [
            "5\n"
          ],
          "name": "stdout"
        }
      ]
    },
    {
      "cell_type": "code",
      "metadata": {
        "id": "wONFGta3M24n",
        "colab_type": "code",
        "outputId": "5bda1fbc-d0df-4c1e-c56f-bd51b7f37b76",
        "colab": {
          "base_uri": "https://localhost:8080/",
          "height": 50
        }
      },
      "source": [
        "print(train_data_x.shape)\n",
        "print(train_data_y.shape)"
      ],
      "execution_count": 8,
      "outputs": [
        {
          "output_type": "stream",
          "text": [
            "(1080, 64, 64, 3)\n",
            "(1080,)\n"
          ],
          "name": "stdout"
        }
      ]
    },
    {
      "cell_type": "code",
      "metadata": {
        "id": "xiiuYGhDNu9C",
        "colab_type": "code",
        "outputId": "27dd0d3b-5c97-4be1-d689-69dbe71538d8",
        "colab": {
          "base_uri": "https://localhost:8080/",
          "height": 33
        }
      },
      "source": [
        "x_train = np.divide(train_data_x,255)\n",
        "y_train = tf.one_hot(train_data_y, 6)\n",
        "sess = tf.Session()\n",
        "print(sess.run(y_train[1]))"
      ],
      "execution_count": 9,
      "outputs": [
        {
          "output_type": "stream",
          "text": [
            "[1. 0. 0. 0. 0. 0.]\n"
          ],
          "name": "stdout"
        }
      ]
    },
    {
      "cell_type": "code",
      "metadata": {
        "id": "xvFXhxWBOGCc",
        "colab_type": "code",
        "outputId": "23b36f73-1375-47f2-91a0-4378cbba9dee",
        "colab": {
          "base_uri": "https://localhost:8080/",
          "height": 1673
        }
      },
      "source": [
        "print(train_data_x[1])\n",
        "print(\"   \")\n",
        "print(x_train[1])"
      ],
      "execution_count": 10,
      "outputs": [
        {
          "output_type": "stream",
          "text": [
            "[[[238 232 223]\n",
            "  [238 232 223]\n",
            "  [238 232 223]\n",
            "  ...\n",
            "  [222 216 209]\n",
            "  [221 216 207]\n",
            "  [221 216 206]]\n",
            "\n",
            " [[237 232 223]\n",
            "  [238 232 223]\n",
            "  [238 232 223]\n",
            "  ...\n",
            "  [222 216 209]\n",
            "  [222 216 208]\n",
            "  [223 217 207]]\n",
            "\n",
            " [[236 232 222]\n",
            "  [237 232 223]\n",
            "  [238 232 223]\n",
            "  ...\n",
            "  [222 216 209]\n",
            "  [222 216 208]\n",
            "  [221 216 207]]\n",
            "\n",
            " ...\n",
            "\n",
            " [[218 212 204]\n",
            "  [217 212 204]\n",
            "  [217 211 205]\n",
            "  ...\n",
            "  [214 203 194]\n",
            "  [214 203 195]\n",
            "  [214 204 194]]\n",
            "\n",
            " [[217 211 203]\n",
            "  [217 211 203]\n",
            "  [216 210 203]\n",
            "  ...\n",
            "  [214 203 194]\n",
            "  [215 203 194]\n",
            "  [215 204 193]]\n",
            "\n",
            " [[216 210 202]\n",
            "  [216 210 203]\n",
            "  [215 209 203]\n",
            "  ...\n",
            "  [214 203 194]\n",
            "  [215 203 194]\n",
            "  [215 204 192]]]\n",
            "   \n",
            "[[[0.93333333 0.90980392 0.8745098 ]\n",
            "  [0.93333333 0.90980392 0.8745098 ]\n",
            "  [0.93333333 0.90980392 0.8745098 ]\n",
            "  ...\n",
            "  [0.87058824 0.84705882 0.81960784]\n",
            "  [0.86666667 0.84705882 0.81176471]\n",
            "  [0.86666667 0.84705882 0.80784314]]\n",
            "\n",
            " [[0.92941176 0.90980392 0.8745098 ]\n",
            "  [0.93333333 0.90980392 0.8745098 ]\n",
            "  [0.93333333 0.90980392 0.8745098 ]\n",
            "  ...\n",
            "  [0.87058824 0.84705882 0.81960784]\n",
            "  [0.87058824 0.84705882 0.81568627]\n",
            "  [0.8745098  0.85098039 0.81176471]]\n",
            "\n",
            " [[0.9254902  0.90980392 0.87058824]\n",
            "  [0.92941176 0.90980392 0.8745098 ]\n",
            "  [0.93333333 0.90980392 0.8745098 ]\n",
            "  ...\n",
            "  [0.87058824 0.84705882 0.81960784]\n",
            "  [0.87058824 0.84705882 0.81568627]\n",
            "  [0.86666667 0.84705882 0.81176471]]\n",
            "\n",
            " ...\n",
            "\n",
            " [[0.85490196 0.83137255 0.8       ]\n",
            "  [0.85098039 0.83137255 0.8       ]\n",
            "  [0.85098039 0.82745098 0.80392157]\n",
            "  ...\n",
            "  [0.83921569 0.79607843 0.76078431]\n",
            "  [0.83921569 0.79607843 0.76470588]\n",
            "  [0.83921569 0.8        0.76078431]]\n",
            "\n",
            " [[0.85098039 0.82745098 0.79607843]\n",
            "  [0.85098039 0.82745098 0.79607843]\n",
            "  [0.84705882 0.82352941 0.79607843]\n",
            "  ...\n",
            "  [0.83921569 0.79607843 0.76078431]\n",
            "  [0.84313725 0.79607843 0.76078431]\n",
            "  [0.84313725 0.8        0.75686275]]\n",
            "\n",
            " [[0.84705882 0.82352941 0.79215686]\n",
            "  [0.84705882 0.82352941 0.79607843]\n",
            "  [0.84313725 0.81960784 0.79607843]\n",
            "  ...\n",
            "  [0.83921569 0.79607843 0.76078431]\n",
            "  [0.84313725 0.79607843 0.76078431]\n",
            "  [0.84313725 0.8        0.75294118]]]\n"
          ],
          "name": "stdout"
        }
      ]
    },
    {
      "cell_type": "code",
      "metadata": {
        "id": "tsvPFRwYP94n",
        "colab_type": "code",
        "outputId": "c0f7d513-d928-4890-98d5-2a3de503829c",
        "colab": {
          "base_uri": "https://localhost:8080/",
          "height": 33
        }
      },
      "source": [
        "print(x_train.shape)"
      ],
      "execution_count": 11,
      "outputs": [
        {
          "output_type": "stream",
          "text": [
            "(1080, 64, 64, 3)\n"
          ],
          "name": "stdout"
        }
      ]
    },
    {
      "cell_type": "code",
      "metadata": {
        "id": "F_ApqmH9wIjb",
        "colab_type": "code",
        "outputId": "196dd20c-5b7a-4f41-d6f9-085e3fd4d72d",
        "colab": {
          "base_uri": "https://localhost:8080/",
          "height": 33
        }
      },
      "source": [
        "print(y_train.shape)"
      ],
      "execution_count": 12,
      "outputs": [
        {
          "output_type": "stream",
          "text": [
            "(1080, 6)\n"
          ],
          "name": "stdout"
        }
      ]
    },
    {
      "cell_type": "code",
      "metadata": {
        "id": "Np8vsVdHwK5E",
        "colab_type": "code",
        "colab": {}
      },
      "source": [
        "def make_placeholder(h,w,c,y):\n",
        "  X = tf.placeholder(tf.float32, shape=[None,h,w,c])\n",
        "  Y = tf.placeholder(tf.float32,shape=[None,y])\n",
        "  return X,Y"
      ],
      "execution_count": 0,
      "outputs": []
    },
    {
      "cell_type": "code",
      "metadata": {
        "id": "ifZxVhVlAmmn",
        "colab_type": "code",
        "colab": {}
      },
      "source": [
        "X,Y = make_placeholder(64,64,3,6)"
      ],
      "execution_count": 0,
      "outputs": []
    },
    {
      "cell_type": "code",
      "metadata": {
        "id": "-eDOBPlNAxDI",
        "colab_type": "code",
        "colab": {
          "base_uri": "https://localhost:8080/",
          "height": 33
        },
        "outputId": "2527598c-c879-4ccf-e66c-1c3247e1c5e8"
      },
      "source": [
        "print (str(X)+\"  \"+ str(Y))"
      ],
      "execution_count": 15,
      "outputs": [
        {
          "output_type": "stream",
          "text": [
            "Tensor(\"Placeholder:0\", shape=(?, 64, 64, 3), dtype=float32)  Tensor(\"Placeholder_1:0\", shape=(?, 6), dtype=float32)\n"
          ],
          "name": "stdout"
        }
      ]
    },
    {
      "cell_type": "code",
      "metadata": {
        "id": "5y8mdDVXA3Y8",
        "colab_type": "code",
        "colab": {}
      },
      "source": [
        "def initialize_parameters():\n",
        "  tf.set_random_seed(1)\n",
        "  W1 = tf.get_variable('W1', [4,4,3,8], initializer = tf.contrib.layers.xavier_initializer(seed=0))\n",
        "  W2 = tf.get_variable('W2', [2,2,8,16], initializer = tf.contrib.layers.xavier_initializer(seed=0))\n",
        "  parameters= {\"W1\":W1,\n",
        "               \"W2\": W2\n",
        "      \n",
        "  }\n",
        "  return parameters"
      ],
      "execution_count": 0,
      "outputs": []
    },
    {
      "cell_type": "code",
      "metadata": {
        "id": "74cMH6mNLMWl",
        "colab_type": "code",
        "colab": {
          "base_uri": "https://localhost:8080/",
          "height": 50
        },
        "outputId": "14892c74-2288-4613-8fd8-5c57e83f3f62"
      },
      "source": [
        "tf.reset_default_graph()\n",
        "with tf.Session() as tf_sess:\n",
        "  parameters = initialize_parameters()\n",
        "  init = tf.global_variables_initializer()\n",
        "  tf_sess.run(init)\n",
        "  print(\"W1 = \" + str(parameters[\"W1\"].eval()[1,1,1,1]))\n",
        "  print(\"W2 = \" + str(parameters[\"W2\"].eval()[1,1,1,1]))"
      ],
      "execution_count": 28,
      "outputs": [
        {
          "output_type": "stream",
          "text": [
            "W1 = 0.1417614\n",
            "W2 = 0.17750949\n"
          ],
          "name": "stdout"
        }
      ]
    },
    {
      "cell_type": "code",
      "metadata": {
        "id": "7Wqd1tARM3Me",
        "colab_type": "code",
        "colab": {
          "base_uri": "https://localhost:8080/",
          "height": 4132
        },
        "outputId": "76dcaa66-14f0-4cd5-95f6-40f915edc394"
      },
      "source": [
        "tf.reset_default_graph()\n",
        "with tf.Session() as sess_test:\n",
        "    parameters = initialize_parameters()\n",
        "    init = tf.global_variables_initializer()\n",
        "    sess_test.run(init)\n",
        "    print(\"W1 = \" + str(parameters[\"W1\"].eval()))\n",
        "    print(\"W2 = \" + str(parameters[\"W2\"].eval()))"
      ],
      "execution_count": 27,
      "outputs": [
        {
          "output_type": "stream",
          "text": [
            "W1 = [[[[ 0.11547081 -0.15562162  0.14463945 -0.12213563 -0.161331\n",
            "     0.0167321   0.00137798  0.15687598]\n",
            "   [ 0.06261188  0.15809353 -0.13944083  0.1304368   0.14947264\n",
            "     0.07770665 -0.0344099   0.02789916]\n",
            "   [ 0.1310067   0.03547595  0.1019934   0.17467071 -0.16157703\n",
            "    -0.06069881 -0.10278072 -0.06633689]]\n",
            "\n",
            "  [[-0.1701455  -0.15981087 -0.06383926 -0.00349012 -0.14234345\n",
            "    -0.05761932  0.00821769 -0.07173218]\n",
            "   [ 0.14097519  0.11141728  0.18437327  0.0588678  -0.13764857\n",
            "    -0.11404216  0.05882488  0.09655331]\n",
            "   [ 0.09364428 -0.03100704  0.16560768  0.14417745  0.15409656\n",
            "    -0.08602516 -0.12028332 -0.16772161]]\n",
            "\n",
            "  [[ 0.18019755 -0.17030357 -0.10018802 -0.18330556  0.03716455\n",
            "    -0.09169444 -0.01606575 -0.10697315]\n",
            "   [-0.1352132   0.04067522  0.07451691  0.02565144 -0.08935398\n",
            "    -0.14955646  0.17125843 -0.10636543]\n",
            "   [ 0.1641133  -0.16645104  0.14331098 -0.0984499  -0.02071032\n",
            "    -0.13608913  0.15722917 -0.05736801]]\n",
            "\n",
            "  [[ 0.18048044  0.12755601  0.09927674 -0.07896702 -0.01106757\n",
            "     0.12510462  0.10254164 -0.0530639 ]\n",
            "   [ 0.09258421 -0.04108836 -0.05156758 -0.18287908 -0.1201285\n",
            "     0.18191533 -0.09046397 -0.06246264]\n",
            "   [ 0.0652394  -0.15792422 -0.1635998   0.17045619 -0.01177415\n",
            "     0.05414602  0.16976361  0.1313066 ]]]\n",
            "\n",
            "\n",
            " [[[-0.1276688  -0.0151097   0.09537239 -0.09044442  0.1176459\n",
            "    -0.08076607  0.1509314   0.06640787]\n",
            "   [ 0.03119117  0.11769979  0.1076581  -0.01755811 -0.12652452\n",
            "    -0.08751073  0.0767848  -0.08363672]\n",
            "   [-0.07881     0.12069152  0.05915618 -0.10101575 -0.01375258\n",
            "     0.09362705 -0.02805306 -0.09040824]]\n",
            "\n",
            "  [[ 0.16443549 -0.09292883  0.05716194  0.08276136  0.11203139\n",
            "     0.06421891 -0.00729965  0.13727976]\n",
            "   [ 0.00131723  0.1417614  -0.04434952  0.09197326  0.14984085\n",
            "    -0.03514394 -0.06847463  0.05245192]\n",
            "   [ 0.17308395 -0.07463694 -0.1627092   0.15460996 -0.08179158\n",
            "    -0.13378257  0.00564247  0.16062535]]\n",
            "\n",
            "  [[ 0.13059764 -0.00192186 -0.11307718 -0.18133381 -0.05553304\n",
            "     0.02143283 -0.11456852  0.0528446 ]\n",
            "   [-0.09188157 -0.00452077 -0.01033492 -0.087416   -0.01735702\n",
            "     0.02977444  0.00052984  0.00983675]\n",
            "   [-0.15542524 -0.01869164  0.03142871 -0.05312751  0.16560926\n",
            "    -0.09097554  0.08132382 -0.14448032]]\n",
            "\n",
            "  [[ 0.08929332 -0.17300954 -0.0014689  -0.17412269 -0.01236047\n",
            "     0.0417559   0.04234362  0.02787495]\n",
            "   [ 0.14712255 -0.16533229 -0.12082531  0.05418657 -0.01176724\n",
            "     0.01966397 -0.11076181  0.05106527]\n",
            "   [ 0.08188905 -0.10437318 -0.03012811  0.11816578 -0.1605425\n",
            "     0.1754932   0.14070319 -0.12122801]]]\n",
            "\n",
            "\n",
            " [[[-0.10985722  0.00432044  0.00896505 -0.0881089  -0.08848276\n",
            "     0.00863551  0.15536223  0.05154584]\n",
            "   [-0.05037339  0.09931098 -0.17829435  0.01767568 -0.08340865\n",
            "    -0.06263054  0.01612224  0.16876729]\n",
            "   [-0.1194736   0.11054228 -0.11331978  0.09310131 -0.10664946\n",
            "     0.13256015 -0.06946554 -0.11520903]]\n",
            "\n",
            "  [[ 0.16194074 -0.14686722 -0.12353867 -0.15883712  0.06531674\n",
            "     0.01186568 -0.08830131 -0.1453381 ]\n",
            "   [-0.11682992  0.1258529  -0.16491483  0.11780094 -0.06159177\n",
            "    -0.09904815 -0.16852126  0.07559638]\n",
            "   [-0.1770666   0.03841008  0.06194262  0.13051493 -0.04662523\n",
            "     0.10323875  0.04866305  0.09327753]]\n",
            "\n",
            "  [[-0.08677699  0.13345896  0.14411353  0.07402633  0.17853673\n",
            "    -0.17118461  0.13299449  0.04484366]\n",
            "   [-0.0477975   0.03531374  0.00538918  0.05524488  0.13791884\n",
            "     0.05704719  0.10665409  0.01218429]\n",
            "   [-0.02445702  0.09296604 -0.02939983 -0.07282878 -0.09431875\n",
            "     0.07386138  0.08730365 -0.13300917]]\n",
            "\n",
            "  [[-0.11411674 -0.12772955  0.12570257 -0.0296371  -0.14701442\n",
            "     0.1293747   0.07933183  0.01307277]\n",
            "   [ 0.05453169  0.03466724  0.15829597  0.14806415  0.13052414\n",
            "     0.18101163  0.1082833   0.14259486]\n",
            "   [-0.09484331 -0.09866115  0.10171987 -0.09913518  0.04908362\n",
            "    -0.11938292  0.13852538  0.06013463]]]\n",
            "\n",
            "\n",
            " [[[ 0.04723395  0.12427522  0.13143836  0.01017329 -0.06754398\n",
            "     0.07398213  0.09188254 -0.04818894]\n",
            "   [ 0.12729175 -0.04897885 -0.08968189  0.10791881 -0.03634022\n",
            "     0.01406936  0.06535503  0.06877695]\n",
            "   [-0.15827248  0.11055781  0.09597807 -0.0635449  -0.11517187\n",
            "    -0.14547585 -0.03765407  0.11134703]]\n",
            "\n",
            "  [[-0.15231502  0.14108427 -0.04393423  0.1197993   0.04059035\n",
            "    -0.12795182  0.05467723  0.17338474]\n",
            "   [ 0.13689046 -0.01458083  0.10258235 -0.00747211 -0.17994192\n",
            "    -0.15795825 -0.1545277  -0.05960114]\n",
            "   [-0.01873805 -0.0986744  -0.03393377 -0.13624606  0.07541598\n",
            "    -0.00854653 -0.0889894  -0.02335989]]\n",
            "\n",
            "  [[ 0.11911012 -0.18236025  0.03056322 -0.16970247 -0.09283181\n",
            "     0.01669209  0.12650074 -0.12198777]\n",
            "   [ 0.04790117 -0.12337236  0.17987971 -0.13652207  0.1565762\n",
            "    -0.14924584 -0.00282751  0.08280452]\n",
            "   [-0.04915185  0.13603546  0.07698585 -0.13521378 -0.14091624\n",
            "    -0.18266377 -0.16046709 -0.11843611]]\n",
            "\n",
            "  [[-0.0050036  -0.11442259  0.0118302  -0.06936064  0.1735499\n",
            "    -0.07373526  0.17584409 -0.06918319]\n",
            "   [ 0.16454048 -0.1698395  -0.0988445   0.01970342  0.1596723\n",
            "    -0.07270284  0.03040822  0.02601132]\n",
            "   [-0.00218067 -0.04939128 -0.11902361 -0.1844188  -0.16679502\n",
            "     0.03561163 -0.01817229 -0.17090265]]]]\n",
            "W2 = [[[[ 0.15634823 -0.21071267  0.19584274 -0.16537243 -0.21844321\n",
            "     0.02265537  0.0018658   0.2124111   0.08477688  0.21405965\n",
            "    -0.18880379  0.17661226  0.20238692  0.10521531 -0.04659122\n",
            "     0.03777564]\n",
            "   [ 0.1773839   0.04803467  0.13809973  0.23650527 -0.21877635\n",
            "    -0.08218658 -0.13916576 -0.08982056 -0.23037809 -0.21638495\n",
            "    -0.08643878 -0.00472564 -0.19273394 -0.07801694  0.01112682\n",
            "    -0.09712583]\n",
            "   [ 0.19088131  0.15085971  0.24964261  0.07970738 -0.18637705\n",
            "    -0.15441382  0.07964927  0.13073379  0.12679493 -0.04198372\n",
            "     0.22423387  0.19521719  0.20864773 -0.11647862 -0.16286439\n",
            "    -0.22709614]\n",
            "   [ 0.24398863 -0.23059213 -0.13565522 -0.2481969   0.05032104\n",
            "    -0.12415487 -0.02175313 -0.14484233 -0.18307954  0.05507451\n",
            "     0.10089636  0.03473222 -0.12098587 -0.2025004   0.23188502\n",
            "    -0.14401948]\n",
            "   [ 0.22221047 -0.22537577  0.194044   -0.1333018  -0.0280419\n",
            "    -0.18426555  0.21288931 -0.07767665  0.24437165  0.17271167\n",
            "     0.13442135 -0.10692185 -0.01498556  0.16939247  0.13884205\n",
            "    -0.07184887]\n",
            "   [ 0.1253596  -0.0556339  -0.06982285 -0.24761945 -0.16265476\n",
            "     0.24631453 -0.1224888  -0.08457482  0.08833456 -0.21383041\n",
            "    -0.22151518  0.23079878 -0.01594228  0.07331407  0.22986102\n",
            "     0.17778999]\n",
            "   [-0.17286438 -0.02045864  0.12913483 -0.12246233  0.1592933\n",
            "    -0.10935777  0.2043621   0.08991671  0.04223305  0.15936625\n",
            "     0.14576977 -0.02377379 -0.17131501 -0.1184901   0.10396713\n",
            "    -0.11324465]\n",
            "   [-0.10670924  0.1634171   0.08009785 -0.13677597 -0.01862109\n",
            "     0.12677163 -0.03798401 -0.12241334  0.22264671 -0.12582624\n",
            "     0.07739764  0.11205941  0.1516912   0.08695281 -0.00988376\n",
            "     0.18587768]]\n",
            "\n",
            "  [[ 0.00178355  0.19194585 -0.06004953  0.1245324   0.20288545\n",
            "    -0.04758513 -0.09271508  0.07102025  0.23435676 -0.1010589\n",
            "    -0.22030932  0.2093429  -0.11074632 -0.18114245  0.00763994\n",
            "     0.21748775]\n",
            "   [ 0.17683005 -0.00260222 -0.15310723 -0.24552715 -0.07519209\n",
            "     0.02902019 -0.15512651  0.07155192 -0.12440825 -0.00612116\n",
            "    -0.01399356 -0.11836183 -0.02350152  0.04031479  0.0007174\n",
            "     0.01331902]\n",
            "   [-0.21044677 -0.02530861  0.04255468 -0.071935    0.22423601\n",
            "    -0.12318146  0.11011297 -0.19562727  0.12090373 -0.23425603\n",
            "    -0.00198889 -0.23576325 -0.01673615  0.05653775  0.05733353\n",
            "     0.03774285]\n",
            "   [ 0.19920486 -0.22386098 -0.16359824  0.07336897 -0.01593292\n",
            "     0.02662516 -0.1499722   0.0691427   0.11087829 -0.14132196\n",
            "    -0.04079366  0.15999722 -0.21737558  0.23761892  0.19051301\n",
            "    -0.1641435 ]\n",
            "   [-0.14874738  0.0058499   0.01213872 -0.11930001 -0.11980623\n",
            "     0.01169252  0.21036148  0.0697934  -0.06820589  0.13446772\n",
            "    -0.24141169  0.02393299 -0.11293584 -0.08480215  0.02182961\n",
            "     0.22851199]\n",
            "   [-0.16176802  0.14967495 -0.1534357   0.12605977 -0.14440405\n",
            "     0.17948729 -0.09405679 -0.15599376  0.2192688  -0.19885916\n",
            "    -0.16727215 -0.2150665   0.08843929  0.01606619 -0.11956054\n",
            "    -0.19678873]\n",
            "   [-0.15818846  0.17040563 -0.22329575  0.15950322 -0.08339566\n",
            "    -0.13411182 -0.22817886  0.10235798 -0.23974931  0.0520075\n",
            "     0.08387071  0.17671806 -0.06313086  0.13978595  0.06589007\n",
            "     0.12629837]\n",
            "   [-0.11749661  0.1807043   0.19513065  0.10023212  0.24173987\n",
            "    -0.23178506  0.1800754   0.0607186  -0.06471813  0.04781502\n",
            "     0.00729698  0.07480192  0.18674302  0.07724226  0.14441031\n",
            "     0.01649761]]]\n",
            "\n",
            "\n",
            " [[[-0.03311497  0.1258766  -0.03980756 -0.09861064 -0.1277082\n",
            "     0.10000879  0.11820972 -0.18009526 -0.15451479 -0.17294663\n",
            "     0.17020208 -0.04012883 -0.19905847  0.17517418  0.1074158\n",
            "     0.01770061]\n",
            "   [ 0.07383627  0.04693967  0.21433377  0.2004798   0.17673051\n",
            "     0.2450909   0.14661628  0.19307435 -0.12841845 -0.13358784\n",
            "     0.13772935 -0.13422966  0.06645954 -0.16164523  0.18756425\n",
            "     0.08142269]\n",
            "   [ 0.06395507  0.16826946  0.17796838  0.01377469 -0.09145498\n",
            "     0.10017228  0.12440956 -0.06524813  0.17235386 -0.06631768\n",
            "    -0.12142986  0.14612275 -0.04920489  0.01905     0.08849114\n",
            "     0.09312445]\n",
            "   [-0.21430194  0.14969599  0.12995493 -0.0860402  -0.15594345\n",
            "    -0.19697523 -0.05098385  0.15076458 -0.20623553  0.19102901\n",
            "    -0.05948722  0.16220903  0.0549596  -0.17324758  0.07403332\n",
            "     0.23476404]\n",
            "   [ 0.18535054 -0.01974255  0.13889718 -0.01011729 -0.24364251\n",
            "    -0.21387649 -0.2092315  -0.08070034 -0.02537143 -0.13360578\n",
            "    -0.04594654 -0.18447804  0.10211372 -0.01157206 -0.12049222\n",
            "    -0.03162944]\n",
            "   [ 0.16127586 -0.24691695  0.04138279 -0.22977823 -0.12569487\n",
            "     0.02260119  0.17128283 -0.16517222  0.0648585  -0.16704696\n",
            "     0.24355829 -0.18485177  0.2120052  -0.20207983 -0.00382847\n",
            "     0.11211783]\n",
            "   [-0.06655192  0.1841929   0.10423934 -0.18308032 -0.1908015\n",
            "    -0.24732792 -0.21727347 -0.16036326 -0.0067749  -0.15492892\n",
            "     0.01601815 -0.09391475  0.23498768 -0.09983802  0.23809403\n",
            "    -0.09367448]\n",
            "   [ 0.22278887 -0.22996378 -0.13383609  0.02667856  0.21619731\n",
            "    -0.09844011  0.04117292  0.03521949 -0.00295264 -0.06687611\n",
            "    -0.16115874 -0.24970424 -0.22584152  0.04821837 -0.02460539\n",
            "    -0.23140329]]\n",
            "\n",
            "  [[-0.18384045 -0.07131445 -0.02003753 -0.12345749 -0.24772805\n",
            "    -0.0591681  -0.22099876 -0.10867238  0.05496579 -0.24000043\n",
            "     0.12130052  0.05348402  0.17916197  0.10360909  0.15508461\n",
            "    -0.24735516]\n",
            "   [-0.08566415  0.17750949  0.11974221  0.16773748 -0.0830943\n",
            "    -0.08058    -0.00577033 -0.14643836  0.24162132 -0.05857408\n",
            "    -0.19055021  0.1345228  -0.22779644 -0.1601823  -0.16117483\n",
            "    -0.10286498]\n",
            "   [ 0.06133574  0.24821758 -0.22794688  0.02049685 -0.03034788\n",
            "     0.241229    0.10711557 -0.01992434 -0.08800435 -0.05443317\n",
            "     0.10572845  0.01207262 -0.13105512 -0.22861475  0.09859848\n",
            "     0.20748681]\n",
            "   [ 0.20250797 -0.24068254  0.11085892  0.11751884 -0.20209771\n",
            "     0.17610735  0.10797662 -0.20836651 -0.08102417 -0.07290971\n",
            "     0.03967398  0.23608232  0.10115141 -0.11907947 -0.22285402\n",
            "     0.2226901 ]\n",
            "   [-0.01933706 -0.18380052  0.16316366 -0.02370656  0.15015\n",
            "     0.06676596 -0.23134565  0.09539664  0.22972149  0.2059533\n",
            "     0.03598803  0.18620443 -0.10007733  0.18203467 -0.02344739\n",
            "     0.17151207]\n",
            "   [-0.12270039 -0.16479349 -0.00698209 -0.2356919   0.12461263\n",
            "    -0.06360525  0.20608407  0.09140432 -0.24178499  0.09802401\n",
            "    -0.00190687  0.06751549 -0.22167635 -0.17189133 -0.2290473\n",
            "     0.22376955]\n",
            "   [-0.24204212 -0.12599689  0.23177564 -0.20726854 -0.00205141\n",
            "    -0.03434849  0.18935168 -0.14828146  0.17615408  0.23537391\n",
            "    -0.01974487 -0.11459219 -0.20645076 -0.13067818 -0.19092673\n",
            "    -0.00809753]\n",
            "   [ 0.12988168 -0.02145797 -0.24288124 -0.13481694 -0.06399602\n",
            "     0.10477573  0.224729   -0.1571238  -0.1104731  -0.13970822\n",
            "     0.17865449 -0.1420008  -0.09402359 -0.13309652  0.18296456\n",
            "     0.11509913]]]]\n"
          ],
          "name": "stdout"
        }
      ]
    },
    {
      "cell_type": "code",
      "metadata": {
        "id": "R9R2dXslNup7",
        "colab_type": "code",
        "colab": {}
      },
      "source": [
        "def forward_propagation(X, parameters):\n",
        "  W1 = parameters[\"W1\"]\n",
        "  W2 = parameters[\"W2\"]\n",
        "  z1 = tf.nn.conv2d(X,W1,strides = [1,1,1,1], padding = 'SAME')\n",
        "  a1 = tf.nn.relu(z1)\n",
        "  p1 = tf.nn.max_pool(a1,ksize = [1,8,8,1], strides = [1,8,8,1], padding = 'SAME'  )\n",
        "  z2 = tf.nn.conv2d(p1,W2,strides = [1,1,1,1], padding = 'SAME')\n",
        "  a2 = tf.nn.relu(z2)\n",
        "  p2 = tf.nn.max_pool(a2,ksize = [1,4,4,1], strides = [1,4,4,1], padding = 'SAME'  )\n",
        "  output = tf.contrib.layers.flatten(p2)\n",
        "  z3 = tf.contrib.layers.fully_connected(z3,6,activation_fn = None)\n",
        "  return z3\n",
        "  "
      ],
      "execution_count": 0,
      "outputs": []
    },
    {
      "cell_type": "code",
      "metadata": {
        "id": "uCvVS-u8YYES",
        "colab_type": "code",
        "colab": {}
      },
      "source": [
        "def compute_cost(z3,Y):\n",
        "  cost = tf.nn.softmax_cross_entropy_with_logits(logits = z3, labels = Y)\n",
        "  cost = tf.reduce_mean(cost)\n",
        "  return cost"
      ],
      "execution_count": 0,
      "outputs": []
    },
    {
      "cell_type": "code",
      "metadata": {
        "id": "wUam5Q0bdQNg",
        "colab_type": "code",
        "colab": {}
      },
      "source": [
        "def model(x_train,y_train, learning_rate = 0.009, num_epochs = 250, minibatch_size = 100, print_cost = True):\n",
        "  ops.reset_default_graph()\n",
        "  tf.random_seed(1)\n",
        "  seed = 3\n",
        "  (m,h,w,c) = x_train.shape\n",
        "  (y) = y_train.shape[1]\n",
        "  X,Y = make_placeholder(h,w,c,y)\n",
        "  parameters = initialize_parameters()\n",
        "  z3 = forward_propagation(X, parameters)\n",
        "  cost = compute_cost(z3,Y)\n",
        "  optimizer = tf.train.AdamOptimizer(learning_rate = learning_rate).minimize(cost)\n",
        "  init = tf.global_variables_initializer()\n",
        "  with tf.Session() as sess:\n",
        "    sess.run(init)\n",
        "    for epoch in range(num_epochs):\n",
        "      \n",
        "    \n",
        "    \n",
        "  "
      ],
      "execution_count": 0,
      "outputs": []
    },
    {
      "cell_type": "code",
      "metadata": {
        "id": "X_pe0ND6gGOs",
        "colab_type": "code",
        "colab": {}
      },
      "source": [
        ""
      ],
      "execution_count": 0,
      "outputs": []
    }
  ]
}