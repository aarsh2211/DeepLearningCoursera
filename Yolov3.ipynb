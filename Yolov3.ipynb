{
  "nbformat": 4,
  "nbformat_minor": 0,
  "metadata": {
    "colab": {
      "name": "Yolov3.ipynb",
      "version": "0.3.2",
      "provenance": [],
      "collapsed_sections": []
    },
    "kernelspec": {
      "name": "python3",
      "display_name": "Python 3"
    }
  },
  "cells": [
    {
      "cell_type": "code",
      "metadata": {
        "id": "I4itRHEyn_X1",
        "colab_type": "code",
        "colab": {}
      },
      "source": [
        "import tensorflow as tf\n",
        "import os\n",
        "import matplotlib.pyplot as plt\n",
        "import scipy.io\n",
        "import scipy.misc\n",
        "import numpy as np\n",
        "import pandas as pd\n",
        "import PIL\n",
        "from keras import backend as K\n",
        "from keras.layers import Input, Lambda, Conv2D\n",
        "from keras.models import load_model, Model\n",
        "\n",
        "\n"
      ],
      "execution_count": 0,
      "outputs": []
    },
    {
      "cell_type": "code",
      "metadata": {
        "id": "9zZHvydzoknW",
        "colab_type": "code",
        "colab": {}
      },
      "source": [
        "def yolo_filter_boxes(box_confidence, boxes, box_class_probs, threshold = 0.6):\n",
        "  box_scores = np.multiply(box_confidence,box_class_probs)\n",
        "  box_classes = K.argmax(box_scores, axis = -1)\n",
        "  box_class_scores = K.max(box_scores, axis = -1)\n",
        "  filtering_mask = K.greater_equal(box_class_scores, threshold)\n",
        "  scores = tf.boolean_mask(box_class_scores, filtering_mask)\n",
        "  boxes = tf.boolean_mask(boxes, filtering_mask)\n",
        "  classes = tf.boolean_mask(box_classes, filtering_mask)\n",
        "  return scores, boxes, classes"
      ],
      "execution_count": 0,
      "outputs": []
    },
    {
      "cell_type": "code",
      "metadata": {
        "id": "bG1FFMOgpRQr",
        "colab_type": "code",
        "colab": {
          "base_uri": "https://localhost:8080/",
          "height": 117
        },
        "outputId": "873e63c5-bf2a-48a8-9642-c7255df22781"
      },
      "source": [
        "with tf.Session() as test_a:\n",
        "  box_confidence = tf.random_normal([19,19,5,1], mean = 1, stddev = 4, seed =1)\n",
        "  boxes = tf.random_normal([19,19,5,4], mean = 1, stddev = 4, seed =1)\n",
        "  box_class_probs = tf.random_normal([19,19,5,80], mean = 1, stddev = 4, seed =1)\n",
        "  scores, boxes, classes = yolo_filter_boxes(box_confidence, boxes, box_class_probs, threshold = 0.5) \n",
        "  print(scores[2].eval())\n",
        "  print(boxes[2].eval())\n",
        "  print(classes[2].eval())\n",
        "  print(scores.shape)\n",
        "  print(boxes.shape)\n",
        "  print(classes.shape)"
      ],
      "execution_count": 12,
      "outputs": [
        {
          "output_type": "stream",
          "text": [
            "10.750582\n",
            "[ 8.426533   3.2713668 -0.5313436 -4.9413733]\n",
            "7\n",
            "(?,)\n",
            "(?, 4)\n",
            "(?,)\n"
          ],
          "name": "stdout"
        }
      ]
    },
    {
      "cell_type": "code",
      "metadata": {
        "id": "qvqdPKNyJZa3",
        "colab_type": "code",
        "colab": {}
      },
      "source": [
        ""
      ],
      "execution_count": 0,
      "outputs": []
    }
  ]
}