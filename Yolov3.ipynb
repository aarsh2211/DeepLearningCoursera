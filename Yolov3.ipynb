{
  "nbformat": 4,
  "nbformat_minor": 0,
  "metadata": {
    "colab": {
      "name": "Yolov3.ipynb",
      "version": "0.3.2",
      "provenance": [],
      "collapsed_sections": []
    },
    "kernelspec": {
      "name": "python3",
      "display_name": "Python 3"
    }
  },
  "cells": [
    {
      "cell_type": "code",
      "metadata": {
        "id": "I4itRHEyn_X1",
        "colab_type": "code",
        "outputId": "a34dc627-d9a1-4c7e-fa4e-ced3238c7f8b",
        "colab": {
          "base_uri": "https://localhost:8080/",
          "height": 33
        }
      },
      "source": [
        "import tensorflow as tf\n",
        "import os\n",
        "import matplotlib.pyplot as plt\n",
        "import scipy.io\n",
        "import scipy.misc\n",
        "import numpy as np\n",
        "import pandas as pd\n",
        "import PIL\n",
        "from keras import backend as K\n",
        "from keras.layers import Input, Lambda, Conv2D\n",
        "from keras.models import load_model, Model\n",
        "\n",
        "\n"
      ],
      "execution_count": 1,
      "outputs": [
        {
          "output_type": "stream",
          "text": [
            "Using TensorFlow backend.\n"
          ],
          "name": "stderr"
        }
      ]
    },
    {
      "cell_type": "code",
      "metadata": {
        "id": "9zZHvydzoknW",
        "colab_type": "code",
        "colab": {}
      },
      "source": [
        "def yolo_filter_boxes(box_confidence, boxes, box_class_probs, threshold = 0.6):\n",
        "  box_scores = np.multiply(box_confidence,box_class_probs)\n",
        "  box_classes = K.argmax(box_scores, axis = -1)\n",
        "  box_class_scores = K.max(box_scores, axis = -1)\n",
        "  filtering_mask = K.greater_equal(box_class_scores, threshold)\n",
        "  scores = tf.boolean_mask(box_class_scores, filtering_mask)\n",
        "  boxes = tf.boolean_mask(boxes, filtering_mask)\n",
        "  classes = tf.boolean_mask(box_classes, filtering_mask)\n",
        "  print(box_scores.shape)\n",
        "  print(box_classes.shape)\n",
        "  print(box_class_scores.shape)\n",
        "  print(filtering_mask.shape)\n",
        "  return scores, boxes, classes"
      ],
      "execution_count": 0,
      "outputs": []
    },
    {
      "cell_type": "code",
      "metadata": {
        "id": "bG1FFMOgpRQr",
        "colab_type": "code",
        "outputId": "ebdb2c2b-721b-4f54-ed44-101b6355b941",
        "colab": {
          "base_uri": "https://localhost:8080/",
          "height": 271
        }
      },
      "source": [
        "with tf.Session() as test_a:\n",
        "  box_confidence = tf.random_normal([19,19,5,1], mean = 1, stddev = 4, seed =1)\n",
        "  boxes = tf.random_normal([19,19,5,4], mean = 1, stddev = 4, seed =1)\n",
        "  box_class_probs = tf.random_normal([19,19,5,80], mean = 1, stddev = 4, seed =1)\n",
        "  scores, boxes, classes = yolo_filter_boxes(box_confidence, boxes, box_class_probs, threshold = 0.5) \n",
        "  print(scores[2].eval())\n",
        "  print(boxes[2].eval())\n",
        "  print(classes[2].eval())\n",
        "  print(scores.shape)\n",
        "  print(boxes.shape)\n",
        "  print(classes.shape)"
      ],
      "execution_count": 3,
      "outputs": [
        {
          "output_type": "stream",
          "text": [
            "WARNING: Logging before flag parsing goes to stderr.\n",
            "W0622 14:20:24.241814 139694429996928 deprecation.py:323] From /usr/local/lib/python3.6/dist-packages/tensorflow/python/ops/array_ops.py:1354: add_dispatch_support.<locals>.wrapper (from tensorflow.python.ops.array_ops) is deprecated and will be removed in a future version.\n",
            "Instructions for updating:\n",
            "Use tf.where in 2.0, which has the same broadcast rule as np.where\n"
          ],
          "name": "stderr"
        },
        {
          "output_type": "stream",
          "text": [
            "(19, 19, 5, 80)\n",
            "(19, 19, 5)\n",
            "(19, 19, 5)\n",
            "(19, 19, 5)\n",
            "10.750582\n",
            "[ 8.426533   3.2713668 -0.5313436 -4.9413733]\n",
            "7\n",
            "(?,)\n",
            "(?, 4)\n",
            "(?,)\n"
          ],
          "name": "stdout"
        }
      ]
    },
    {
      "cell_type": "code",
      "metadata": {
        "id": "qvqdPKNyJZa3",
        "colab_type": "code",
        "colab": {}
      },
      "source": [
        "#doing intersection over union\n",
        "def iou(box1,box2):\n",
        "  xi1 = max(box1[0],box2[0])\n",
        "  yi1 = max(box1[1],box2[1])\n",
        "  xi2 = min(box1[2],box2[2])\n",
        "  yi2 = min(box1[3],box2[3])\n",
        "  inter_area = (xi2-xi1)*(yi2-yi1)\n",
        "  box1_area = (box1[3] - box1[1])*(box1[2]- box1[0])\n",
        "  box2_area = (box2[3] - box2[1])*(box2[2]- box2[0])\n",
        "  union_area = (box1_area + box2_area) - inter_area\n",
        "  \n",
        "  return inter_area/union_area"
      ],
      "execution_count": 0,
      "outputs": []
    },
    {
      "cell_type": "code",
      "metadata": {
        "id": "PZNH5348sIh1",
        "colab_type": "code",
        "outputId": "ffa66961-5ab1-4af1-c8d0-4bbe001db8f3",
        "colab": {
          "base_uri": "https://localhost:8080/",
          "height": 33
        }
      },
      "source": [
        "box1 = (2, 1, 4, 3)\n",
        "box2 = (1, 2, 3, 4) \n",
        "print(\"iou = \" + str(iou(box1, box2)))"
      ],
      "execution_count": 5,
      "outputs": [
        {
          "output_type": "stream",
          "text": [
            "iou = 0.14285714285714285\n"
          ],
          "name": "stdout"
        }
      ]
    },
    {
      "cell_type": "code",
      "metadata": {
        "id": "gBZ5OC1hsMjV",
        "colab_type": "code",
        "colab": {}
      },
      "source": [
        "def yolo_non_max_suppression(scores, boxes, classes, max_boxes = 10, iou_threshold = 0.5):\n",
        "  max_boxes_tensor = K.variable(max_boxes, dtype = \"int32\")\n",
        "  K.get_session().run(tf.variables_initializer([max_boxes_tensor]))\n",
        "  nms_indices = tf.image.non_max_suppression(boxes, scores, max_boxes_tensor, iou_threshold = iou_threshold)\n",
        "  scores = K.gather(scores, nms_indices)\n",
        "  boxes = K.gather(boxes, nms_indices)\n",
        "  classes = K.gather(classes, nms_indices)\n",
        "  return scores, boxes, classes"
      ],
      "execution_count": 0,
      "outputs": []
    },
    {
      "cell_type": "code",
      "metadata": {
        "id": "thaOSgta16uf",
        "colab_type": "code",
        "colab": {}
      },
      "source": [
        "def scale_boxes(boxes, image_shape):\n",
        "    \"\"\" Scales the predicted boxes in order to be drawable on the image\"\"\"\n",
        "    height = image_shape[0]\n",
        "    width = image_shape[1]\n",
        "    image_dims = K.stack([height, width, height, width])\n",
        "    image_dims = K.reshape(image_dims, [1, 4])\n",
        "    boxes = boxes * image_dims\n",
        "    return boxes"
      ],
      "execution_count": 0,
      "outputs": []
    },
    {
      "cell_type": "code",
      "metadata": {
        "id": "LsPNEPWe2S2u",
        "colab_type": "code",
        "colab": {}
      },
      "source": [
        "def yolo_boxes_to_corners(box_xy, box_wh):\n",
        "    \"\"\"Convert YOLO box predictions to bounding box corners.\"\"\"\n",
        "    box_mins = box_xy - (box_wh / 2.)\n",
        "    box_maxes = box_xy + (box_wh / 2.)\n",
        "\n",
        "    return K.concatenate([\n",
        "        box_mins[..., 1:2],  # y_min\n",
        "        box_mins[..., 0:1],  # x_min\n",
        "        box_maxes[..., 1:2],  # y_max\n",
        "        box_maxes[..., 0:1]  # x_max\n",
        "    ])\n"
      ],
      "execution_count": 0,
      "outputs": []
    },
    {
      "cell_type": "code",
      "metadata": {
        "id": "T3rmeCPP0RnJ",
        "colab_type": "code",
        "colab": {}
      },
      "source": [
        "def yolo_eval(yolo_outputs, image_shape = (720., 1280.), max_boxes=10, score_threshold=.6, iou_threshold=.5):\n",
        "  box_confidence, box_xy, box_wh, box_class_probs = yolo_outputs\n",
        "  boxes = yolo_boxes_to_corners(box_xy, box_wh)\n",
        "  scores, boxes, classes = yolo_filter_boxes(box_confidence, boxes, box_class_probs, threshold = score_threshold)\n",
        "  boxes = scale_boxes(boxes,image_shape)\n",
        "  scores, boxes, classes = yolo_non_max_suppression(scores, boxes, classes, max_boxes = max_boxes, iou_threshold = iou_threshold)\n",
        "    \n",
        "    \n",
        "    \n",
        "  return scores, boxes, classes"
      ],
      "execution_count": 0,
      "outputs": []
    },
    {
      "cell_type": "code",
      "metadata": {
        "id": "DfqIsDgqwd_K",
        "colab_type": "code",
        "colab": {
          "base_uri": "https://localhost:8080/",
          "height": 338
        },
        "outputId": "7e079409-010f-4592-e30a-b39eb68e7f45"
      },
      "source": [
        "with tf.Session() as test_b:\n",
        "    yolo_outputs = (tf.random_normal([19, 19, 5, 1], mean=1, stddev=4, seed = 1),\n",
        "                    tf.random_normal([19, 19, 5, 2], mean=1, stddev=4, seed = 1),\n",
        "                    tf.random_normal([19, 19, 5, 2], mean=1, stddev=4, seed = 1),\n",
        "                    tf.random_normal([19, 19, 5, 80], mean=1, stddev=4, seed = 1))\n",
        "    scores, boxes, classes = yolo_eval(yolo_outputs)\n",
        "    print(\"scores[2] = \" + str(scores[2].eval()))\n",
        "    print(\"boxes[2] = \" + str(boxes[2].eval()))\n",
        "    print(\"classes[2] = \" + str(classes[2].eval()))\n",
        "    print(\"scores.shape = \" + str(scores.eval().shape))\n",
        "    print(\"boxes.shape = \" + str(boxes.eval().shape))\n",
        "    print(\"classes.shape = \" + str(classes.eval().shape))"
      ],
      "execution_count": 12,
      "outputs": [
        {
          "output_type": "stream",
          "text": [
            "W0622 15:41:49.221451 139694429996928 deprecation_wrapper.py:119] From /usr/local/lib/python3.6/dist-packages/keras/backend/tensorflow_backend.py:174: The name tf.get_default_session is deprecated. Please use tf.compat.v1.get_default_session instead.\n",
            "\n",
            "W0622 15:41:49.222419 139694429996928 deprecation_wrapper.py:119] From /usr/local/lib/python3.6/dist-packages/keras/backend/tensorflow_backend.py:190: The name tf.global_variables is deprecated. Please use tf.compat.v1.global_variables instead.\n",
            "\n",
            "W0622 15:41:49.225008 139694429996928 deprecation_wrapper.py:119] From /usr/local/lib/python3.6/dist-packages/keras/backend/tensorflow_backend.py:199: The name tf.is_variable_initialized is deprecated. Please use tf.compat.v1.is_variable_initialized instead.\n",
            "\n",
            "W0622 15:41:49.254217 139694429996928 deprecation_wrapper.py:119] From /usr/local/lib/python3.6/dist-packages/keras/backend/tensorflow_backend.py:206: The name tf.variables_initializer is deprecated. Please use tf.compat.v1.variables_initializer instead.\n",
            "\n"
          ],
          "name": "stderr"
        },
        {
          "output_type": "stream",
          "text": [
            "(19, 19, 5, 80)\n",
            "(19, 19, 5)\n",
            "(19, 19, 5)\n",
            "(19, 19, 5)\n",
            "scores[2] = 138.79124\n",
            "boxes[2] = [1292.3297  -278.52167 3876.9893  -835.56494]\n",
            "classes[2] = 54\n",
            "scores.shape = (10,)\n",
            "boxes.shape = (10, 4)\n",
            "classes.shape = (10,)\n"
          ],
          "name": "stdout"
        }
      ]
    },
    {
      "cell_type": "code",
      "metadata": {
        "id": "-ZIqwZo-2VrX",
        "colab_type": "code",
        "colab": {
          "base_uri": "https://localhost:8080/",
          "height": 70
        },
        "outputId": "5fa83369-9d24-4065-b272-4425779c65b0"
      },
      "source": [
        "sess = K.get_session()"
      ],
      "execution_count": 13,
      "outputs": [
        {
          "output_type": "stream",
          "text": [
            "W0622 15:47:04.016402 139694429996928 deprecation_wrapper.py:119] From /usr/local/lib/python3.6/dist-packages/keras/backend/tensorflow_backend.py:181: The name tf.ConfigProto is deprecated. Please use tf.compat.v1.ConfigProto instead.\n",
            "\n"
          ],
          "name": "stderr"
        }
      ]
    },
    {
      "cell_type": "code",
      "metadata": {
        "id": "Z8yACBV63p12",
        "colab_type": "code",
        "colab": {}
      },
      "source": [
        ""
      ],
      "execution_count": 0,
      "outputs": []
    }
  ]
}